{
 "cells": [
  {
   "cell_type": "markdown",
   "metadata": {},
   "source": [
    "### Conclusion\n",
    "Since we all could not agree on one specific neighborhood we picked two winners based on preferences of new families. Are results are: if you want to prioritize food variety and activies in a neighborhood, the winner would be East Liberty. But, since East Liberty is one of the most dangerous cities, if a family prioritizes safety the winner would be: Mt. Oliver Boro. These results do not surprise us because East Liberty offers a lot of resources with activities and food, but it is not really the safest. Although there are many other factors that would determine the \"best\" neighborhood for a family, we thought these metrics were pretty important when deciding what neighborhood to live in."
   ]
  },
  {
   "cell_type": "code",
   "execution_count": null,
   "metadata": {},
   "outputs": [],
   "source": []
  }
 ],
 "metadata": {
  "kernelspec": {
   "display_name": "Python 3",
   "language": "python",
   "name": "python3"
  },
  "language_info": {
   "codemirror_mode": {
    "name": "ipython",
    "version": 3
   },
   "file_extension": ".py",
   "mimetype": "text/x-python",
   "name": "python",
   "nbconvert_exporter": "python",
   "pygments_lexer": "ipython3",
   "version": "3.8.3"
  }
 },
 "nbformat": 4,
 "nbformat_minor": 4
}
